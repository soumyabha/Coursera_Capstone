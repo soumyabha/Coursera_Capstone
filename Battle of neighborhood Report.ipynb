{
 "cells": [
  {
   "cell_type": "markdown",
   "metadata": {},
   "source": [
    "### Capstone Project - The Battle of the Neighborhoods Report\n",
    "#### Applied Data Science Capstone by IBM/Coursera"
   ]
  },
  {
   "cell_type": "markdown",
   "metadata": {},
   "source": [
    "## Table of contents\n",
    "* [Introduction: Business Problem](#introduction)\n",
    "* [Data](#data)\n",
    "* [Methodology](#methodology)\n",
    "* [Analysis](#analysis)\n",
    "* [Results and Discussion](#results)\n",
    "* [Conclusion](#conclusion)"
   ]
  },
  {
   "cell_type": "markdown",
   "metadata": {},
   "source": [
    "## Introduction: Business Problem <a name=\"introduction\"></a>"
   ]
  },
  {
   "cell_type": "markdown",
   "metadata": {},
   "source": [
    "In this project we will try to find an optimal location for a restaurant. Specifically, this report will be targeted to stakeholders interested in opening an **Fast Food Restaurant** near **Chicago Public Schools**, USA.\n",
    "\n",
    "Since there are lots of restaurants in Chicago we will try to **detect locations that are not already crowded with restaurants**. We are also particularly interested in areas with few Fast Food Restaurants in vicinity. We would also prefer locations as **close to school neighborhood as possible**, assuming that first two conditions are met.\n",
    "\n",
    "We will use our data science powers to generate a few most promising neighborhoods based on this criteria. Advantages of each area will then be clearly expressed so that best possible final location can be chosen by stakeholders.\n"
   ]
  },
  {
   "cell_type": "markdown",
   "metadata": {},
   "source": [
    "### Target Audience:\n",
    "The areas are mostly located near the schools so, kids mostly like the fast food. The project is mainly to the stakeholders who want to start the Fast Food  Restaurant mainly Pizza Place will be great. \n"
   ]
  },
  {
   "cell_type": "markdown",
   "metadata": {},
   "source": [
    "### Data \n",
    "Based on definition of our problem, factors that will influence our decision are:\n",
    "number of existing restaurants in the school neighborhood (any type of restaurant) number of and distance to Fast Food Restaurants in the neighborhood, if any distance of neighborhood from city center.\n",
    "\n",
    "We decided to use regularly spaced grid of locations, centered around city center, to define our neighborhoods.Following data sources will be needed to extract/generate the required information:centers of candidate areas will be generated algorithmically and approximate addresses of centers of those areas will be obtained using Maps\n",
    "number of restaurants and their type and location in every neighborhood will be obtained using Foursquare API coordinate of Chicago center will be obtained using Maps API geocoding of well known Chicago location.\n",
    "\n",
    "Here,I used Chicago Public Schools Progress Report Cards 2011-2012 as a dataset for this project. Used Foursquare API to find latitude and longitude for Chicago city center.\n"
   ]
  },
  {
   "cell_type": "markdown",
   "metadata": {},
   "source": [
    "### Neighborhood Candidates\n",
    "Let's create latitude & longitude coordinates for centroids of our candidate neighborhoods. We will create a grid of cells covering our area of interest of radius 500 centered around Chicago city center.\n",
    "Let's first find the latitude & longitude of Chicago city center, using specific, well known address and Maps.\n",
    "Based on the Zip Code we got the neighborhood and school areas are displayed."
   ]
  },
  {
   "cell_type": "markdown",
   "metadata": {},
   "source": [
    "### Foursquare:\n",
    "\n",
    "Now that we have our location candidates, let's use Foursquare API to get info on restaurants in each neighborhood.\n",
    "We're interested in venues in 'food' category, let's see what are the restaurants are available for that particular neighborhood.\n",
    "\n",
    "\n",
    "### Methodology:\n",
    "\n",
    "In this project we will direct our efforts on detecting areas of Chicago of a particular ZIP Code that have low restaurant density, particularly those with low number of Fast Food restaurants. We will limit our analysis to area radius to 500 around city center.\n",
    "In the first step we have collected the required data, the neighborhoods that are there in the particular ZIP Code. \n",
    "Now in second step we have collected the required data and type (category) of  Pizza Place within radius of 500 from that particular location according to Foursquare categorization.\n",
    "In third step we will use folium maps to identify the areas close to center of that particular location.\n"
   ]
  },
  {
   "cell_type": "markdown",
   "metadata": {},
   "source": [
    "### Analysis:\n",
    "\n",
    "After filtering all the address that has pizza place, let's perform some basic explanatory data analysis and derive some additional info from our raw data. First let's count the number of restaurants in every area candidate."
   ]
  },
  {
   "cell_type": "markdown",
   "metadata": {},
   "source": [
    "### Results and Discussion\n",
    "\n",
    "Our analysis shows that although there is a great number of restaurants in Chicago,  we mainly focused in New City, Chicago with in the radius of 500 from the respective distances.  From the above analysis we can say that the area that are closer to the location got less number of pizza place.  So, it is better to open a pizza place close to those particular locations. \n",
    "\n",
    "### Conclusion:\n",
    "\n",
    "Purpose of this project was to identify New City areas close to  center with low number of restaurants (particularly Pizza Place) in order to aid stakeholders in narrowing down the search for optimal location for a new Pizza Place. By calculating restaurant density distribution from Foursquare data we have further analysis using clusters. Final decision on optimal restaurant location will be made by stakeholders based on specific characteristics of neighborhoods and locations in every recommended zone, taking into consideration additional factors like population, of very neighborhood etc.\n"
   ]
  }
 ],
 "metadata": {
  "kernelspec": {
   "display_name": "Python 3",
   "language": "python",
   "name": "python3"
  },
  "language_info": {
   "codemirror_mode": {
    "name": "ipython",
    "version": 3
   },
   "file_extension": ".py",
   "mimetype": "text/x-python",
   "name": "python",
   "nbconvert_exporter": "python",
   "pygments_lexer": "ipython3",
   "version": "3.6.8"
  }
 },
 "nbformat": 4,
 "nbformat_minor": 2
}
