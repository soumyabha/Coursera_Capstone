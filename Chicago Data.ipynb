{
 "cells": [
  {
   "cell_type": "markdown",
   "metadata": {},
   "source": [
    "## Data <a name=\"data\"></a>"
   ]
  },
  {
   "cell_type": "markdown",
   "metadata": {},
   "source": [
    "Based on definition of our problem, factors that will influence our decision are:\n",
    "\n",
    "number of existing restaurants in the school neighborhood (any type of restaurant)\n",
    "number of and distance to Fast Food Restaurants in the neighborhood, if any\n",
    "distance of neighborhood from city center.\n",
    "\n",
    "We decided to use regularly spaced grid of locations, centered around city center, to define our neighborhoods.\n",
    "\n",
    "Following data sources will be needed to extract/generate the required information:\n",
    "\n",
    "centers of candidate areas will be generated algorithmically and approximate addresses of centers of those areas will be obtained using  Maps\n",
    "\n",
    "\n",
    "number of restaurants and their type and location in every neighborhood will be obtained using Foursquare API\n",
    "\n",
    "coordinate of Chicago center will be obtained using  Maps API geocoding of well known Chicago location."
   ]
  },
  {
   "cell_type": "markdown",
   "metadata": {},
   "source": [
    "### Neighborhood Candidates\n",
    "\n",
    "Let's create latitude & longitude coordinates for centroids of our candidate neighborhoods. We will create a grid of cells covering our area of interest which is aprox. 12x12 killometers centered around Chicago city center.\n",
    "\n",
    "Let's first find the latitude & longitude of Chicago city center, using specific, well known address and  Maps."
   ]
  },
  {
   "cell_type": "markdown",
   "metadata": {},
   "source": [
    "**Here,I used Chicago Public Schools Progress Report Cards 2011-2012** as a dataset for this project.\n",
    "  Used Foursquare API to find latitude and longitude for chicago city center."
   ]
  }
 ],
 "metadata": {
  "kernelspec": {
   "display_name": "Python 3",
   "language": "python",
   "name": "python3"
  },
  "language_info": {
   "codemirror_mode": {
    "name": "ipython",
    "version": 3
   },
   "file_extension": ".py",
   "mimetype": "text/x-python",
   "name": "python",
   "nbconvert_exporter": "python",
   "pygments_lexer": "ipython3",
   "version": "3.6.8"
  }
 },
 "nbformat": 4,
 "nbformat_minor": 2
}
